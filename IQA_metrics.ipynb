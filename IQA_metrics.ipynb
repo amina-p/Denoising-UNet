{
  "nbformat": 4,
  "nbformat_minor": 0,
  "metadata": {
    "colab": {
      "name": "IQA-metrics.ipynb",
      "provenance": []
    },
    "kernelspec": {
      "name": "python3",
      "display_name": "Python 3"
    },
    "language_info": {
      "name": "python"
    }
  },
  "cells": [
    {
      "cell_type": "markdown",
      "source": [
        "**Import packages**"
      ],
      "metadata": {
        "id": "FNauzsk178LS"
      }
    },
    {
      "cell_type": "code",
      "execution_count": null,
      "metadata": {
        "id": "pt31N3U_7ppa"
      },
      "outputs": [],
      "source": [
        "import matplotlib.pyplot as plt\n",
        "from skimage import data\n",
        "from skimage.color import rgb2gray"
      ]
    },
    {
      "cell_type": "markdown",
      "source": [
        "**SSIM measure**"
      ],
      "metadata": {
        "id": "-rf5OTG_8AKu"
      }
    },
    {
      "cell_type": "code",
      "source": [
        "from skimage.metrics import structural_similarity as ssim\n",
        "indice=0\n",
        "original = test_data_clean[indice]\n",
        "grayscale = rgb2gray(original)\n",
        "original1 = test_data_denoised[indice]\n",
        "grayscale1 = rgb2gray(original1)\n",
        "SSIM = ssim (grayscale, grayscale1)\n",
        "print(\"SSIM = \", SSIM)"
      ],
      "metadata": {
        "id": "3dZ0xFZs70Eh"
      },
      "execution_count": null,
      "outputs": []
    },
    {
      "cell_type": "markdown",
      "source": [
        "**PSNR measure**"
      ],
      "metadata": {
        "id": "rLRZ3TqK8Tp_"
      }
    },
    {
      "cell_type": "code",
      "source": [
        "from skimage.metrics import peak_signal_noise_ratio\n",
        "indice=0\n",
        "original = test_data_clean[indice]\n",
        "grayscale = rgb2gray(original)\n",
        "original1 = test_data_denoised[indice]\n",
        "grayscale1 = rgb2gray(original1)\n",
        "PSNR_gray = peak_signal_noise_ratio(grayscale, grayscale1)\n",
        "print(\"PSNR = \", PSNR_gray)"
      ],
      "metadata": {
        "id": "XRBWSEbe8IVQ"
      },
      "execution_count": null,
      "outputs": []
    },
    {
      "cell_type": "markdown",
      "source": [
        "**MSE measure**"
      ],
      "metadata": {
        "id": "fK8UbVYL8lCg"
      }
    },
    {
      "cell_type": "code",
      "source": [
        "from skimage.metrics import mean_squared_error\n",
        "indice=0\n",
        "original = test_data_clean[indice]\n",
        "grayscale = rgb2gray(original)\n",
        "original1 = test_data_denoised[indice]\n",
        "grayscale1 = rgb2gray(original1)\n",
        "MSE = mean_squared_error(grayscale, grayscale1)\n",
        "print(\"MSE = \", MSE)"
      ],
      "metadata": {
        "id": "FzOs6pQm8bMf"
      },
      "execution_count": null,
      "outputs": []
    }
  ]
}